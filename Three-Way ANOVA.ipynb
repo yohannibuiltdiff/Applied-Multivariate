{
  "nbformat": 4,
  "nbformat_minor": 0,
  "metadata": {
    "colab": {
      "provenance": []
    },
    "kernelspec": {
      "name": "python3",
      "display_name": "Python 3"
    },
    "language_info": {
      "name": "python"
    }
  },
  "cells": [
    {
      "cell_type": "code",
      "source": [
        "import pandas as pd\n",
        "from scipy import stats\n",
        "import pingouin as pg\n",
        "import statsmodels.api as sm\n",
        "from scipy.stats import chi2\n",
        "import numpy as np\n",
        "from statsmodels.stats.anova import AnovaRM\n",
        "import statsmodels.formula.api as smf\n",
        "from scipy.stats import kruskal\n",
        "import scikit_posthocs as sp\n",
        "from statsmodels.formula.api import ols\n",
        "import matplotlib.pyplot as plt\n",
        "import seaborn as sns\n",
        "from statsmodels.stats.anova import anova_lm\n",
        "from scipy.stats import levene, shapiro\n",
        "from statsmodels.graphics.gofplots import qqplot\n",
        "from statsmodels.stats.multicomp import pairwise_tukeyhsd"
      ],
      "metadata": {
        "id": "X-ngci02w2hl"
      },
      "execution_count": 120,
      "outputs": []
    },
    {
      "cell_type": "code",
      "source": [
        "df = pd.read_csv('/content/drive/MyDrive/Csv folder/server_response_time_replicates.csv')\n",
        "\n",
        "print(df.head())\n"
      ],
      "metadata": {
        "colab": {
          "base_uri": "https://localhost:8080/"
        },
        "id": "GiTMSAxowMmI",
        "outputId": "f6a84144-26cd-428a-c993-1e50ef24317a"
      },
      "execution_count": 100,
      "outputs": [
        {
          "output_type": "stream",
          "name": "stdout",
          "text": [
            "   Server Server Type Security Protocol      Time  Response Time\n",
            "0       1       Linux               SSL  Baseline      93.881199\n",
            "1       2     Windows               TLS  Baseline     160.105153\n",
            "2       3     Windows               SSL  Baseline     134.286198\n",
            "3       4       Linux               TLS  Baseline     109.503697\n",
            "4       5     Windows               SSL  Baseline     132.966562\n"
          ]
        }
      ]
    },
    {
      "cell_type": "code",
      "source": [
        "sns.boxplot(x='Server Type', y='Response Time', data=df)\n",
        "plt.title('Response Time by Server Type')\n",
        "plt.show()\n",
        "\n",
        "results = {}\n",
        "\n",
        "for server_type in df['Server Type'].unique():\n",
        "    group_data = df[df['Server Type'] == server_type]['Response Time']\n",
        "    shapiro_test = stats.shapiro(group_data)\n",
        "    results[server_type] = {\n",
        "        'W': shapiro_test.statistic,\n",
        "        'p-value': shapiro_test.pvalue\n",
        "    }\n",
        "shapiro_results_df = pd.DataFrame(results).T\n",
        "print(\"Shapiro-Wilk Test Results for Normality:\")\n",
        "print(shapiro_results_df)"
      ],
      "metadata": {
        "colab": {
          "base_uri": "https://localhost:8080/",
          "height": 545
        },
        "id": "l6Z4s2_bwjh2",
        "outputId": "bbff59dc-3879-4e00-b2b4-5fbaaec5c826"
      },
      "execution_count": 85,
      "outputs": [
        {
          "output_type": "display_data",
          "data": {
            "text/plain": [
              "<Figure size 640x480 with 1 Axes>"
            ],
            "image/png": "[encoded data removed]"
          },
          "metadata": {}
        },
        {
          "output_type": "stream",
          "name": "stdout",
          "text": [
            "Shapiro-Wilk Test Results for Normality:\n",
            "                W       p-value\n",
            "Linux    0.966204  3.376437e-11\n",
            "Windows  0.952769  4.005762e-12\n"
          ]
        }
      ]
    },
    {
      "cell_type": "code",
      "source": [
        "df_pivot = df.pivot_table(index='Server', columns='Time', values='Response Time', aggfunc='mean')\n",
        "df_pivot = df_pivot.dropna()\n",
        "\n",
        "def mauchly_test(data):\n",
        "    n = len(data)\n",
        "    k = data.shape[1]\n",
        "\n",
        "\n",
        "    means = data.mean(axis=0).values\n",
        "\n",
        "\n",
        "    grand_mean = means.mean()\n",
        "\n",
        "\n",
        "    cov_matrix = np.cov(data.T)\n",
        "\n",
        "\n",
        "    W = (np.linalg.det(cov_matrix) ** (n - 1)) / np.prod([np.linalg.det(cov_matrix + np.outer(means - grand_mean, means - grand_mean)) for means in means])\n",
        "\n",
        "\n",
        "    chi_square = -((n - 1 - (2 * k)) * np.log(W))\n",
        "    p_value = 1 - chi2.cdf(chi_square, (k - 1) * (k - 2) / 2)\n",
        "\n",
        "    return W, p_value\n",
        "\n",
        "\n",
        "W, p_value = mauchly_test(df_pivot)\n",
        "print(f\"Mauchly's W: {W}, p-value: {p_value}\")"
      ],
      "metadata": {
        "colab": {
          "base_uri": "https://localhost:8080/"
        },
        "id": "U6MG7WnD1XMw",
        "outputId": "825af800-905d-42c7-8e15-9f0ce421f994"
      },
      "execution_count": 92,
      "outputs": [
        {
          "output_type": "stream",
          "name": "stdout",
          "text": [
            "Mauchly's W: 1.018202617286723e+88, p-value: 1.0\n"
          ]
        }
      ]
    },
    {
      "cell_type": "code",
      "source": [
        "levene_results = pg.homoscedasticity(data=df, dv='Response Time', group='Server')\n",
        "\n",
        "print(levene_results)"
      ],
      "metadata": {
        "colab": {
          "base_uri": "https://localhost:8080/"
        },
        "id": "BFi-nshj1bX_",
        "outputId": "3c367315-874d-49de-9ecb-a8aaa82fdd5f"
      },
      "execution_count": 93,
      "outputs": [
        {
          "output_type": "stream",
          "name": "stdout",
          "text": [
            "               W          pval  equal_var\n",
            "levene  6.471223  2.862253e-16      False\n"
          ]
        }
      ]
    },
    {
      "cell_type": "code",
      "source": [
        "duplicates = df[df.duplicated(subset=['Server'], keep=False)]\n",
        "if not duplicates.empty:\n",
        "    print(\"Duplicate entries found:\")\n",
        "    print(duplicates)\n",
        "else:\n",
        "    print(\"No duplicate entries found. Data is independent.\")"
      ],
      "metadata": {
        "colab": {
          "base_uri": "https://localhost:8080/"
        },
        "id": "E0g6sbTHCYKp",
        "outputId": "2cafca60-b777-4af7-85b6-112fe5cc569a"
      },
      "execution_count": 102,
      "outputs": [
        {
          "output_type": "stream",
          "name": "stdout",
          "text": [
            "Duplicate entries found:\n",
            "      Server Server Type Security Protocol      Time  Response Time\n",
            "0          1       Linux               SSL  Baseline      93.881199\n",
            "1          2     Windows               TLS  Baseline     160.105153\n",
            "2          3     Windows               SSL  Baseline     134.286198\n",
            "3          4       Linux               TLS  Baseline     109.503697\n",
            "4          5     Windows               SSL  Baseline     132.966562\n",
            "...      ...         ...               ...       ...            ...\n",
            "1195      16     Windows               TLS  2 Months     156.739996\n",
            "1196      17       Linux               TLS  2 Months     109.107500\n",
            "1197      18     Windows               TLS  2 Months     165.600043\n",
            "1198      19       Linux               TLS  2 Months     103.615543\n",
            "1199      20     Windows               SSL  2 Months     151.112120\n",
            "\n",
            "[1200 rows x 5 columns]\n"
          ]
        }
      ]
    },
    {
      "cell_type": "code",
      "source": [
        "unique_servers = df['Server'].unique()\n",
        "print(\"Unique Server Types:\", unique_servers)\n",
        "\n",
        "for server in unique_servers:\n",
        "\n",
        "    count = df[df['Server'] == server]['Server Type'].nunique()\n",
        "    print(f\"Number of unique server types in {server}: {count}\")"
      ],
      "metadata": {
        "colab": {
          "base_uri": "https://localhost:8080/"
        },
        "id": "XrAz7b1JKilE",
        "outputId": "fea5b5e0-c8ca-4f1c-f32f-8c46580d0ea0"
      },
      "execution_count": 104,
      "outputs": [
        {
          "output_type": "stream",
          "name": "stdout",
          "text": [
            "Unique Server Types: [ 1  2  3  4  5  6  7  8  9 10 11 12 13 14 15 16 17 18 19 20]\n",
            "Number of unique server types in 1: 1\n",
            "Number of unique server types in 2: 1\n",
            "Number of unique server types in 3: 1\n",
            "Number of unique server types in 4: 1\n",
            "Number of unique server types in 5: 1\n",
            "Number of unique server types in 6: 1\n",
            "Number of unique server types in 7: 1\n",
            "Number of unique server types in 8: 1\n",
            "Number of unique server types in 9: 1\n",
            "Number of unique server types in 10: 1\n",
            "Number of unique server types in 11: 1\n",
            "Number of unique server types in 12: 1\n",
            "Number of unique server types in 13: 1\n",
            "Number of unique server types in 14: 1\n",
            "Number of unique server types in 15: 1\n",
            "Number of unique server types in 16: 1\n",
            "Number of unique server types in 17: 1\n",
            "Number of unique server types in 18: 1\n",
            "Number of unique server types in 19: 1\n",
            "Number of unique server types in 20: 1\n"
          ]
        }
      ]
    },
    {
      "cell_type": "code",
      "source": [
        "df.rename(columns={'Response Time': 'Response_Time', 'Server Type': 'Server_Type', 'Security Protocol': 'Security_Protocol'}, inplace=True)\n",
        "model = ols('Response_Time ~ C(Server_Type) * C(Security_Protocol)* C(Time)', data=df).fit()\n",
        "\n",
        "\n",
        "anova_results = anova_lm(model)\n",
        "\n",
        "print(\"\\nThree-Way ANOVA Results:\")\n",
        "print(anova_results)"
      ],
      "metadata": {
        "colab": {
          "base_uri": "https://localhost:8080/"
        },
        "id": "dvjNnxuiceAL",
        "outputId": "37803462-501c-4264-e4e0-daac4364ba9c"
      },
      "execution_count": 124,
      "outputs": [
        {
          "output_type": "stream",
          "name": "stdout",
          "text": [
            "\n",
            "Three-Way ANOVA Results:\n",
            "                                                 df         sum_sq  \\\n",
            "C(Server_Type)                                  1.0  335713.341659   \n",
            "C(Security_Protocol)                            1.0    5354.762227   \n",
            "C(Time)                                         2.0   10619.066481   \n",
            "C(Server_Type):C(Security_Protocol)             1.0   31262.962504   \n",
            "C(Server_Type):C(Time)                          2.0   18702.178455   \n",
            "C(Security_Protocol):C(Time)                    2.0    1731.343618   \n",
            "C(Server_Type):C(Security_Protocol):C(Time)     2.0    1603.738914   \n",
            "Residual                                     1188.0   95431.223870   \n",
            "\n",
            "                                                   mean_sq            F  \\\n",
            "C(Server_Type)                               335713.341659  4179.213403   \n",
            "C(Security_Protocol)                           5354.762227    66.660127   \n",
            "C(Time)                                        5309.533240    66.097083   \n",
            "C(Server_Type):C(Security_Protocol)           31262.962504   389.184985   \n",
            "C(Server_Type):C(Time)                         9351.089227   116.409426   \n",
            "C(Security_Protocol):C(Time)                    865.671809    10.776537   \n",
            "C(Server_Type):C(Security_Protocol):C(Time)     801.869457     9.982277   \n",
            "Residual                                         80.329313          NaN   \n",
            "\n",
            "                                                   PR(>F)  \n",
            "C(Server_Type)                               0.000000e+00  \n",
            "C(Security_Protocol)                         8.165026e-16  \n",
            "C(Time)                                      6.054903e-28  \n",
            "C(Server_Type):C(Security_Protocol)          3.680255e-75  \n",
            "C(Server_Type):C(Time)                       6.807246e-47  \n",
            "C(Security_Protocol):C(Time)                 2.300158e-05  \n",
            "C(Server_Type):C(Security_Protocol):C(Time)  5.020841e-05  \n",
            "Residual                                              NaN  \n"
          ]
        }
      ]
    },
    {
      "cell_type": "code",
      "source": [
        "print(df.head())\n",
        "\n",
        "\n",
        "print(\"DataFrame Shape:\", df.shape)\n",
        "\n",
        "print(\"Unique Server Types:\", df['Server_Type'].unique())\n",
        "print(\"Unique Security Protocols:\", df['Security_Protocol'].unique())\n",
        "print(\"Unique Times:\", df['Time'].unique())"
      ],
      "metadata": {
        "colab": {
          "base_uri": "https://localhost:8080/"
        },
        "id": "hi5hmc2JhEbY",
        "outputId": "10005ba6-f436-4eb3-b3f1-aa2a5877aebc"
      },
      "execution_count": 131,
      "outputs": [
        {
          "output_type": "stream",
          "name": "stdout",
          "text": [
            "   Server Server_Type Security_Protocol      Time  Response_Time\n",
            "0       1       Linux               SSL  Baseline      93.881199\n",
            "1       2     Windows               TLS  Baseline     160.105153\n",
            "2       3     Windows               SSL  Baseline     134.286198\n",
            "3       4       Linux               TLS  Baseline     109.503697\n",
            "4       5     Windows               SSL  Baseline     132.966562\n",
            "DataFrame Shape: (1200, 5)\n",
            "Unique Server Types: ['Linux' 'Windows']\n",
            "Unique Security Protocols: ['SSL' 'TLS']\n",
            "Unique Times: ['Baseline' '1 Month' '2 Months']\n"
          ]
        }
      ]
    },
    {
      "cell_type": "code",
      "source": [
        "means = df.groupby(['Server_Type', 'Security_Protocol', 'Time']).mean().reset_index()\n",
        "\n",
        "print(\"Means DataFrame:\")\n",
        "print(means)\n",
        "\n",
        "if means.empty:\n",
        "    print(\"Means DataFrame is empty. Please check your input data.\")\n"
      ],
      "metadata": {
        "colab": {
          "base_uri": "https://localhost:8080/"
        },
        "id": "ESzrDznnhGi3",
        "outputId": "0c7fbefb-e543-40ee-ea89-9d926e5cb2cc"
      },
      "execution_count": 132,
      "outputs": [
        {
          "output_type": "stream",
          "name": "stdout",
          "text": [
            "Means DataFrame:\n",
            "   Server_Type Security_Protocol      Time     Server  Response_Time\n",
            "0        Linux               SSL   1 Month   6.500000     113.475776\n",
            "1        Linux               SSL  2 Months   6.500000     116.379736\n",
            "2        Linux               SSL  Baseline   6.500000     102.672297\n",
            "3        Linux               TLS   1 Month  12.142857     107.553788\n",
            "4        Linux               TLS  2 Months  12.142857     111.416239\n",
            "5        Linux               TLS  Baseline  12.142857      97.233989\n",
            "6      Windows               SSL   1 Month  10.200000     129.981283\n",
            "7      Windows               SSL  2 Months  10.200000     132.875355\n",
            "8      Windows               SSL  Baseline  10.200000     139.458415\n",
            "9      Windows               TLS   1 Month  12.000000     144.339316\n",
            "10     Windows               TLS  2 Months  12.000000     154.990024\n",
            "11     Windows               TLS  Baseline  12.000000     149.531083\n"
          ]
        }
      ]
    },
    {
      "cell_type": "code",
      "source": [
        "post_hoc_results = pg.pairwise_ttests(\n",
        "    data=df,\n",
        "    dv='Response_Time',\n",
        "    between=['Server_Type', 'Security_Protocol'],\n",
        "    padjust='bonf'\n",
        ")\n",
        "\n",
        "\n",
        "print(\"\\nPost-Hoc Test Results for Server Type and Security Protocol:\")\n",
        "print(post_hoc_results)\n",
        "\n",
        "\n",
        "post_hoc_results_time = pg.pairwise_ttests(\n",
        "    data=df,\n",
        "    dv='Response_Time',\n",
        "    between=['Server_Type', 'Time'],\n",
        "    padjust='bonf'\n",
        ")\n",
        "\n",
        "\n",
        "print(\"\\nPost-Hoc Test Results for Server Type and Time:\")\n",
        "print(post_hoc_results_time)\n",
        "\n",
        "\n",
        "post_hoc_results_protocol_time = pg.pairwise_ttests(\n",
        "    data=df,\n",
        "    dv='Response_Time',\n",
        "    between=['Security_Protocol', 'Time'],\n",
        "    padjust='bonf'\n",
        ")\n",
        "\n",
        "\n",
        "print(\"\\nPost-Hoc Test Results for Security Protocol and Time:\")\n",
        "print(post_hoc_results_protocol_time)\n"
      ],
      "metadata": {
        "colab": {
          "base_uri": "https://localhost:8080/"
        },
        "id": "GROHWPEChJ6H",
        "outputId": "af157cb2-b0f6-4afc-f517-1150c42fad02"
      },
      "execution_count": 135,
      "outputs": [
        {
          "output_type": "stream",
          "name": "stderr",
          "text": [
            "/usr/local/lib/python3.10/dist-packages/pingouin/pairwise.py:28: UserWarning: pairwise_ttests is deprecated, use pairwise_tests instead.\n",
            "  warnings.warn(\"pairwise_ttests is deprecated, use pairwise_tests instead.\", UserWarning)\n",
            "/usr/local/lib/python3.10/dist-packages/pingouin/pairwise.py:28: UserWarning: pairwise_ttests is deprecated, use pairwise_tests instead.\n",
            "  warnings.warn(\"pairwise_ttests is deprecated, use pairwise_tests instead.\", UserWarning)\n"
          ]
        },
        {
          "output_type": "stream",
          "name": "stdout",
          "text": [
            "\n",
            "Post-Hoc Test Results for Server Type and Security Protocol:\n",
            "                          Contrast Server_Type      A        B Paired  \\\n",
            "0                      Server_Type           -  Linux  Windows  False   \n",
            "1                Security_Protocol           -    SSL      TLS  False   \n",
            "2  Server_Type * Security_Protocol       Linux    SSL      TLS  False   \n",
            "3  Server_Type * Security_Protocol     Windows    SSL      TLS  False   \n",
            "\n",
            "  Parametric          T          dof alternative          p-unc        p-corr  \\\n",
            "0       True -47.584813   909.994039   two-sided  4.066959e-249           NaN   \n",
            "1       True   2.005241  1154.492650   two-sided   4.517038e-02           NaN   \n",
            "2       True   7.476071   510.396781   two-sided   3.358577e-13  6.717154e-13   \n",
            "3       True -15.348930   520.249596   two-sided   3.963699e-44  7.927398e-44   \n",
            "\n",
            "  p-adjust        BF10    hedges  \n",
            "0      NaN  8.344e+273 -2.865555  \n",
            "1      NaN       0.473  0.111918  \n",
            "2     bonf   2.458e+10  0.599143  \n",
            "3     bonf   6.993e+40 -1.321595  \n",
            "\n",
            "Post-Hoc Test Results for Server Type and Time:\n",
            "             Contrast Server_Type         A         B Paired Parametric  \\\n",
            "0         Server_Type           -     Linux   Windows  False       True   \n",
            "1                Time           -   1 Month  2 Months  False       True   \n",
            "2                Time           -   1 Month  Baseline  False       True   \n",
            "3                Time           -  2 Months  Baseline  False       True   \n",
            "4  Server_Type * Time       Linux   1 Month  2 Months  False       True   \n",
            "5  Server_Type * Time       Linux   1 Month  Baseline  False       True   \n",
            "6  Server_Type * Time       Linux  2 Months  Baseline  False       True   \n",
            "7  Server_Type * Time     Windows   1 Month  2 Months  False       True   \n",
            "8  Server_Type * Time     Windows   1 Month  Baseline  False       True   \n",
            "9  Server_Type * Time     Windows  2 Months  Baseline  False       True   \n",
            "\n",
            "           T         dof alternative          p-unc        p-corr p-adjust  \\\n",
            "0 -47.584813  909.994039   two-sided  4.066959e-249           NaN      NaN   \n",
            "1  -3.789699  798.000000   two-sided   1.621829e-04  4.865488e-04     bonf   \n",
            "2   1.611312  798.000000   two-sided   1.075072e-01  3.225216e-01     bonf   \n",
            "3   4.627282  798.000000   two-sided   4.322320e-06  1.296696e-05     bonf   \n",
            "4  -5.457937  438.000000   two-sided   8.078802e-08  4.847281e-07     bonf   \n",
            "5  14.515278  438.000000   two-sided   2.946597e-39  1.767958e-38     bonf   \n",
            "6  19.286352  438.000000   two-sided   1.895375e-60  1.137225e-59     bonf   \n",
            "7  -4.070145  358.000000   two-sided   5.785179e-05  3.471108e-04     bonf   \n",
            "8  -6.062472  358.000000   two-sided   3.402950e-09  2.041770e-08     bonf   \n",
            "9  -0.825241  358.000000   two-sided   4.097845e-01  1.000000e+00     bonf   \n",
            "\n",
            "         BF10    hedges  \n",
            "0  8.344e+273 -2.865555  \n",
            "1        86.4 -0.267720  \n",
            "2       0.282  0.113830  \n",
            "3    2573.483  0.326891  \n",
            "4   1.312e+05 -0.519502  \n",
            "5   6.178e+35  1.381606  \n",
            "6   5.616e+56  1.835731  \n",
            "7     292.165 -0.428132  \n",
            "8   2.745e+06 -0.637701  \n",
            "9       0.162 -0.086806  \n",
            "\n",
            "Post-Hoc Test Results for Security Protocol and Time:\n",
            "                   Contrast Security_Protocol         A         B Paired  \\\n",
            "0         Security_Protocol                 -       SSL       TLS  False   \n",
            "1                      Time                 -   1 Month  2 Months  False   \n",
            "2                      Time                 -   1 Month  Baseline  False   \n",
            "3                      Time                 -  2 Months  Baseline  False   \n",
            "4  Security_Protocol * Time               SSL   1 Month  2 Months  False   \n",
            "5  Security_Protocol * Time               SSL   1 Month  Baseline  False   \n",
            "6  Security_Protocol * Time               SSL  2 Months  Baseline  False   \n",
            "7  Security_Protocol * Time               TLS   1 Month  2 Months  False   \n",
            "8  Security_Protocol * Time               TLS   1 Month  Baseline  False   \n",
            "9  Security_Protocol * Time               TLS  2 Months  Baseline  False   \n",
            "\n",
            "  Parametric         T         dof alternative     p-unc    p-corr p-adjust  \\\n",
            "0       True  2.005241  1154.49265   two-sided  0.045170       NaN      NaN   \n",
            "1       True -3.789699   798.00000   two-sided  0.000162  0.000487     bonf   \n",
            "2       True  1.611312   798.00000   two-sided  0.107507  0.322522     bonf   \n",
            "3       True  4.627282   798.00000   two-sided  0.000004  0.000013     bonf   \n",
            "4       True -2.120973   358.00000   two-sided  0.034611  0.207666     bonf   \n",
            "5       True -0.265182   358.00000   two-sided  0.791022  1.000000     bonf   \n",
            "6       True  1.337515   358.00000   two-sided  0.181904  1.000000     bonf   \n",
            "7       True -3.156414   438.00000   two-sided  0.001707  0.010245     bonf   \n",
            "8       True  2.094662   438.00000   two-sided  0.036775  0.220650     bonf   \n",
            "9       True  4.655580   438.00000   two-sided  0.000004  0.000026     bonf   \n",
            "\n",
            "       BF10    hedges  \n",
            "0     0.473  0.111918  \n",
            "1      86.4 -0.267720  \n",
            "2     0.282  0.113830  \n",
            "3  2573.483  0.326891  \n",
            "4     1.004 -0.223101  \n",
            "5      0.12 -0.027894  \n",
            "6     0.275  0.140691  \n",
            "7    12.611 -0.300437  \n",
            "8     0.878  0.199376  \n",
            "9  3105.711  0.443132  \n"
          ]
        },
        {
          "output_type": "stream",
          "name": "stderr",
          "text": [
            "/usr/local/lib/python3.10/dist-packages/pingouin/pairwise.py:28: UserWarning: pairwise_ttests is deprecated, use pairwise_tests instead.\n",
            "  warnings.warn(\"pairwise_ttests is deprecated, use pairwise_tests instead.\", UserWarning)\n"
          ]
        }
      ]
    }
  ]
}