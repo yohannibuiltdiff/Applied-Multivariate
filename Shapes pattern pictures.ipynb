{
  "nbformat": 4,
  "nbformat_minor": 0,
  "metadata": {
    "colab": {
      "provenance": []
    },
    "kernelspec": {
      "name": "python3",
      "display_name": "Python 3"
    },
    "language_info": {
      "name": "python"
    }
  },
  "cells": [
    {
      "cell_type": "code",
      "source": [
        "import pandas as pd\n",
        "import numpy as np\n",
        "import scipy.stats as stats\n",
        "import statsmodels.api as sm\n",
        "from statsmodels.formula.api import ols\n",
        "import matplotlib.pyplot as plt\n",
        "import seaborn as sns"
      ],
      "metadata": {
        "id": "X-ngci02w2hl"
      },
      "execution_count": 21,
      "outputs": []
    },
    {
      "cell_type": "code",
      "source": [
        "df = pd.read_csv('/content/drive/MyDrive/Csv folder/RatExploration_csvFile (2).csv')\n",
        "\n",
        "print(df.head())\n"
      ],
      "metadata": {
        "colab": {
          "base_uri": "https://localhost:8080/"
        },
        "id": "GiTMSAxowMmI",
        "outputId": "ab9ac282-7f11-4622-a304-72eec28205e7"
      },
      "execution_count": 19,
      "outputs": [
        {
          "output_type": "stream",
          "name": "stdout",
          "text": [
            "   ID Stimuli  Time  Unnamed: 3\n",
            "0   1   Shape  2.00         NaN\n",
            "1   2   Shape  0.75         NaN\n",
            "2   3   Shape  1.25         NaN\n",
            "3   4   Shape  1.00         NaN\n",
            "4   5   Shape  1.50         NaN\n"
          ]
        }
      ]
    },
    {
      "cell_type": "code",
      "source": [
        "model = ols('Time ~ C(Stimuli)', data=df).fit()\n",
        "anova_table = sm.stats.anova_lm(model, typ=2)\n",
        "\n",
        "print(anova_table)"
      ],
      "metadata": {
        "colab": {
          "base_uri": "https://localhost:8080/"
        },
        "id": "l6Z4s2_bwjh2",
        "outputId": "14b4e387-25f7-4e62-c808-e29ae004baeb"
      },
      "execution_count": 22,
      "outputs": [
        {
          "output_type": "stream",
          "name": "stdout",
          "text": [
            "               sum_sq    df          F        PR(>F)\n",
            "C(Stimuli)  44.526806   2.0  62.088859  6.531740e-12\n",
            "Residual    11.832917  33.0        NaN           NaN\n"
          ]
        }
      ]
    },
    {
      "cell_type": "code",
      "source": [
        "shapiro_results = {stimulus: stats.shapiro(df[df['Stimuli'] == stimulus]['Time']) for stimulus in df['Stimuli'].unique()}\n",
        "\n",
        "for stimulus, result in shapiro_results.items():\n",
        "    print(f'Stimulus: {stimulus}, W: {result.statistic}, p-value: {result.pvalue}')\n"
      ],
      "metadata": {
        "colab": {
          "base_uri": "https://localhost:8080/"
        },
        "id": "U6MG7WnD1XMw",
        "outputId": "c4d7b323-edbc-41d6-9594-3c004a5a0587"
      },
      "execution_count": 23,
      "outputs": [
        {
          "output_type": "stream",
          "name": "stdout",
          "text": [
            "Stimulus: Shape, W: 0.9437379341711487, p-value: 0.5479560612483392\n",
            "Stimulus: Pattern, W: 0.950051207690582, p-value: 0.6377335252969152\n",
            "Stimulus: Picture, W: 0.9151579689487835, p-value: 0.24829508748161788\n"
          ]
        }
      ]
    },
    {
      "cell_type": "code",
      "source": [
        "levene_test = stats.levene(df[df['Stimuli'] == 'Shape']['Time'],\n",
        "                            df[df['Stimuli'] == 'Pattern']['Time'],\n",
        "                            df[df['Stimuli'] == 'Picture']['Time'])\n",
        "\n",
        "print(f'Levene’s test statistic: {levene_test.statistic}, p-value: {levene_test.pvalue}')\n"
      ],
      "metadata": {
        "colab": {
          "base_uri": "https://localhost:8080/"
        },
        "id": "BFi-nshj1bX_",
        "outputId": "c2609898-af54-4d50-9c3f-16052ddbc99f"
      },
      "execution_count": 24,
      "outputs": [
        {
          "output_type": "stream",
          "name": "stdout",
          "text": [
            "Levene’s test statistic: 0.43132798942236117, p-value: 0.6532556922411884\n"
          ]
        }
      ]
    }
  ]
}